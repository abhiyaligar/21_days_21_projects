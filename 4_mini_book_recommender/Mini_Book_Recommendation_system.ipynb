{
  "nbformat": 4,
  "nbformat_minor": 0,
  "metadata": {
    "colab": {
      "provenance": []
    },
    "kernelspec": {
      "name": "python3",
      "display_name": "Python 3"
    },
    "language_info": {
      "name": "python"
    }
  },
  "cells": [
    {
      "cell_type": "code",
      "source": [
        "# Step 1: Import The Packages\n",
        "\n",
        "import numpy as np\n",
        "import pandas as pd\n",
        "import matplotlib.pyplot as plt\n",
        "import seaborn as sns\n",
        "from sklearn.feature_extraction.text import TfidfVectorizer\n",
        "from sklearn.metrics.pairwise import cosine_similarity"
      ],
      "metadata": {
        "id": "Nah-a69kEV72"
      },
      "execution_count": 1,
      "outputs": []
    },
    {
      "cell_type": "code",
      "source": [
        "# Step 2: Load The Data\n",
        "data = pd.read_csv('goodreads_data.csv')"
      ],
      "metadata": {
        "id": "ydreh8DgIoph"
      },
      "execution_count": 2,
      "outputs": []
    },
    {
      "cell_type": "code",
      "source": [
        "data.info()"
      ],
      "metadata": {
        "colab": {
          "base_uri": "https://localhost:8080/"
        },
        "id": "eIxENZo6Ix-2",
        "outputId": "ce6d7cfb-a7b1-45da-85e6-be63ccb8692f"
      },
      "execution_count": 4,
      "outputs": [
        {
          "output_type": "stream",
          "name": "stdout",
          "text": [
            "<class 'pandas.core.frame.DataFrame'>\n",
            "RangeIndex: 10000 entries, 0 to 9999\n",
            "Data columns (total 8 columns):\n",
            " #   Column       Non-Null Count  Dtype  \n",
            "---  ------       --------------  -----  \n",
            " 0   Unnamed: 0   10000 non-null  int64  \n",
            " 1   Book         10000 non-null  object \n",
            " 2   Author       10000 non-null  object \n",
            " 3   Description  9923 non-null   object \n",
            " 4   Genres       10000 non-null  object \n",
            " 5   Avg_Rating   10000 non-null  float64\n",
            " 6   Num_Ratings  10000 non-null  object \n",
            " 7   URL          10000 non-null  object \n",
            "dtypes: float64(1), int64(1), object(6)\n",
            "memory usage: 625.1+ KB\n"
          ]
        }
      ]
    },
    {
      "cell_type": "code",
      "source": [
        "#Step 3: Fill The Empty Rows\n",
        "data['Description'] = data['Description'].fillna('No Description Avaliable')"
      ],
      "metadata": {
        "id": "s5_zDw0iIyze"
      },
      "execution_count": 5,
      "outputs": []
    },
    {
      "cell_type": "code",
      "source": [
        "data.info()"
      ],
      "metadata": {
        "colab": {
          "base_uri": "https://localhost:8080/"
        },
        "id": "vPr7I0YOJDxi",
        "outputId": "6133b22f-d452-4caa-a0b3-2897300346e9"
      },
      "execution_count": 6,
      "outputs": [
        {
          "output_type": "stream",
          "name": "stdout",
          "text": [
            "<class 'pandas.core.frame.DataFrame'>\n",
            "RangeIndex: 10000 entries, 0 to 9999\n",
            "Data columns (total 8 columns):\n",
            " #   Column       Non-Null Count  Dtype  \n",
            "---  ------       --------------  -----  \n",
            " 0   Unnamed: 0   10000 non-null  int64  \n",
            " 1   Book         10000 non-null  object \n",
            " 2   Author       10000 non-null  object \n",
            " 3   Description  10000 non-null  object \n",
            " 4   Genres       10000 non-null  object \n",
            " 5   Avg_Rating   10000 non-null  float64\n",
            " 6   Num_Ratings  10000 non-null  object \n",
            " 7   URL          10000 non-null  object \n",
            "dtypes: float64(1), int64(1), object(6)\n",
            "memory usage: 625.1+ KB\n"
          ]
        }
      ]
    },
    {
      "cell_type": "code",
      "source": [
        "# Step 4 : Clean The Title\n",
        "import re\n",
        "\n",
        "def clean_Title(title):\n",
        "  return re.sub(r'[\\(\\[\\{].*?[\\)\\]\\}]','',title).strip()\n",
        "\n",
        "data['Book'] = data['Book'].astype(str).apply(clean_Title)"
      ],
      "metadata": {
        "id": "H18IRuRnJI05"
      },
      "execution_count": 30,
      "outputs": []
    },
    {
      "cell_type": "code",
      "source": [
        "# Step 5 : Combine The Description And Geners\n",
        "data['Text'] = data['Description'] + \" \" + data['Genres']"
      ],
      "metadata": {
        "id": "yXE0w6zRJ-d9"
      },
      "execution_count": 10,
      "outputs": []
    },
    {
      "cell_type": "code",
      "source": [
        "# Step 6: Create TF-IDF vectors from combined text\n",
        "vectorizer = TfidfVectorizer(stop_words='english')\n",
        "tfidf_matrix = vectorizer.fit_transform(data['Text'])"
      ],
      "metadata": {
        "id": "XN0tIrFhK_iA"
      },
      "execution_count": 11,
      "outputs": []
    },
    {
      "cell_type": "code",
      "source": [
        "# Step 7 : Compute cosine similarity matrix\n",
        "consie_sim = cosine_similarity(tfidf_matrix, tfidf_matrix)"
      ],
      "metadata": {
        "id": "1LRaEY8GLZoP"
      },
      "execution_count": 14,
      "outputs": []
    },
    {
      "cell_type": "code",
      "source": [
        "#Step 8 : Book Recommendations Function\n",
        "def recommend_books(title, data, consie_sim, top_k=5):\n",
        "  # Finds The Index Of the Book That Matchs\n",
        "  indices = data.index[data['Book'].str.strip().str.lower() == title.strip().lower()]\n",
        "  if len(indices) == 0:\n",
        "    return f\"The Book '{title}' Not Found In The DataBase\"\n",
        "  idx = indices[0]\n",
        "  # Finds The Consies Simlarity For This Book\n",
        "  sim_scores = list(enumerate(consie_sim[idx]))\n",
        "  # Sorts The Books based on Similarity Score in Descending Order\n",
        "  sim_scores = sorted(sim_scores, key=lambda x: x[1], reverse=True)\n",
        "  # Exclude The First Book[itself]\n",
        "  sim_scores = sim_scores[1:top_k+1]\n",
        "  # Get the book indices for top matches\n",
        "  book_indices = [i[0] for i in sim_scores]\n",
        "  # Retrive The Top Matching Book Info\n",
        "  recommendation = data.iloc[book_indices][['Book', 'Author', 'Avg_Rating', 'URL']]\n",
        "\n",
        "  return recommendation"
      ],
      "metadata": {
        "id": "BF6xG6yZL4OT"
      },
      "execution_count": 31,
      "outputs": []
    },
    {
      "cell_type": "code",
      "source": [
        "# Interactive Terminal\n",
        "def interactive_recommender(data, consie_sim,top_k=5):\n",
        "  while True:\n",
        "    title = input(\"Enter a book title (or type 'end' to exit): \")\n",
        "    if title.lower() == \"end\":\n",
        "      print(\"Goodbye, Have A Good Day\")\n",
        "      break\n",
        "    recommendations = recommend_books(title, data, consie_sim, top_k)\n",
        "    if isinstance(recommendations, str):\n",
        "      print(recommendations)\n",
        "    else:\n",
        "      print(f'Top {top_k} for {title}')\n",
        "      print(recommendations.to_string(index=False))\n",
        "interactive_recommender(data, consie_sim, top_k=5)\n",
        "\n",
        ""
      ],
      "metadata": {
        "colab": {
          "base_uri": "https://localhost:8080/"
        },
        "id": "DPQFa7GXOzsB",
        "outputId": "2c6f0018-4348-4ae4-c086-11202dbe3b31"
      },
      "execution_count": 35,
      "outputs": [
        {
          "output_type": "stream",
          "name": "stdout",
          "text": [
            "Enter a book title (or type 'end' to exit): Harry Potter and the Chamber of Secrets\n",
            "Top 5 for Harry Potter and the Chamber of Secrets\n",
            "                                     Book       Author  Avg_Rating                                                                                URL\n",
            "      Harry Potter and the Goblet of Fire J.K. Rowling        4.56          https://www.goodreads.com/book/show/6.Harry_Potter_and_the_Goblet_of_Fire\n",
            " Harry Potter and the Prisoner of Azkaban J.K. Rowling        4.58     https://www.goodreads.com/book/show/5.Harry_Potter_and_the_Prisoner_of_Azkaban\n",
            "Harry Potter and the Order of the Phoenix J.K. Rowling        4.50    https://www.goodreads.com/book/show/2.Harry_Potter_and_the_Order_of_the_Phoenix\n",
            " Harry Potter and the Philosopher’s Stone J.K. Rowling        4.47 https://www.goodreads.com/book/show/72193.Harry_Potter_and_the_Philosopher_s_Stone\n",
            "   Harry Potter and the Half-Blood Prince J.K. Rowling        4.58       https://www.goodreads.com/book/show/1.Harry_Potter_and_the_Half_Blood_Prince\n",
            "Enter a book title (or type 'end' to exit): the diary of a young girl\n",
            "Top 5 for the diary of a young girl\n",
            "                                            Book                 Author  Avg_Rating                                                                                       URL\n",
            "                           Anne Frank Remembered              Miep Gies        4.28                            https://www.goodreads.com/book/show/5509.Anne_Frank_Remembered\n",
            "The Complete Anne of Green Gables 8-Book Box Set        L.M. Montgomery        4.44 https://www.goodreads.com/book/show/3579.The_Complete_Anne_of_Green_Gables_8_Book_Box_Set\n",
            "   Until the Final Hour: Hitler's Last Secretary           Traudl Junge        3.95                           https://www.goodreads.com/book/show/218081.Until_the_Final_Hour\n",
            "                                Alicia: My Story Alicia Appleman-Jurman        4.12                                         https://www.goodreads.com/book/show/401838.Alicia\n",
            "                                The Wasp Factory             Iain Banks        3.79                               https://www.goodreads.com/book/show/567678.The_Wasp_Factory\n",
            "Enter a book title (or type 'end' to exit): 1984\n",
            "Top 5 for 1984\n",
            "               Book           Author  Avg_Rating                                                          URL\n",
            " Animal Farm / 1984    George Orwell        4.30    https://www.goodreads.com/book/show/5472.Animal_Farm_1984\n",
            "                 We Yevgeny Zamyatin        3.90                 https://www.goodreads.com/book/show/76171.We\n",
            "      Virtual Light   William Gibson        3.87      https://www.goodreads.com/book/show/22326.Virtual_Light\n",
            "Homage to Catalonia    George Orwell        4.09 https://www.goodreads.com/book/show/9646.Homage_to_Catalonia\n",
            "    There Are Doors       Gene Wolfe        3.61   https://www.goodreads.com/book/show/666601.There_Are_Doors\n",
            "Enter a book title (or type 'end' to exit): end\n",
            "Goodbye, Have A Good Day\n"
          ]
        }
      ]
    }
  ]
}